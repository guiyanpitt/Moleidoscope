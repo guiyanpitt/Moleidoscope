{
 "cells": [
  {
   "cell_type": "code",
   "execution_count": 1,
   "metadata": {
    "collapsed": false
   },
   "outputs": [],
   "source": [
    "import os\n",
    "import math\n",
    "from moleidoscope.linker import Linker\n",
    "from moleidoscope.geo.coor import Coor"
   ]
  },
  {
   "cell_type": "code",
   "execution_count": 2,
   "metadata": {
    "collapsed": false
   },
   "outputs": [],
   "source": [
    "import nglview\n",
    "l1 = Linker(21)\n",
    "l1.view()"
   ]
  },
  {
   "cell_type": "code",
   "execution_count": 3,
   "metadata": {
    "collapsed": false
   },
   "outputs": [
    {
     "ename": "NameError",
     "evalue": "name 'Mirror' is not defined",
     "output_type": "error",
     "traceback": [
      "\u001b[0;31m---------------------------------------------------------------------------\u001b[0m",
      "\u001b[0;31mNameError\u001b[0m                                 Traceback (most recent call last)",
      "\u001b[0;32m<ipython-input-3-28b7f327a6a7>\u001b[0m in \u001b[0;36m<module>\u001b[0;34m()\u001b[0m\n\u001b[1;32m      2\u001b[0m \u001b[0;34m\u001b[0m\u001b[0m\n\u001b[1;32m      3\u001b[0m \u001b[0;31m# Create a new mirror object that is 'xy' plane\u001b[0m\u001b[0;34m\u001b[0m\u001b[0;34m\u001b[0m\u001b[0m\n\u001b[0;32m----> 4\u001b[0;31m \u001b[0mm\u001b[0m \u001b[0;34m=\u001b[0m \u001b[0mMirror\u001b[0m\u001b[0;34m(\u001b[0m\u001b[0;34m'xy'\u001b[0m\u001b[0;34m)\u001b[0m\u001b[0;34m\u001b[0m\u001b[0m\n\u001b[0m\u001b[1;32m      5\u001b[0m \u001b[0ml_xy\u001b[0m \u001b[0;34m=\u001b[0m \u001b[0mm\u001b[0m\u001b[0;34m.\u001b[0m\u001b[0mto_linker\u001b[0m\u001b[0;34m(\u001b[0m\u001b[0mLinker\u001b[0m\u001b[0;34m(\u001b[0m\u001b[0;34m)\u001b[0m\u001b[0;34m)\u001b[0m\u001b[0;34m\u001b[0m\u001b[0m\n\u001b[1;32m      6\u001b[0m \u001b[0ml_xy\u001b[0m\u001b[0;34m.\u001b[0m\u001b[0mtranslate\u001b[0m\u001b[0;34m(\u001b[0m\u001b[0;34m[\u001b[0m\u001b[0;36m0\u001b[0m\u001b[0;34m,\u001b[0m \u001b[0;36m0\u001b[0m\u001b[0;34m,\u001b[0m \u001b[0;34m-\u001b[0m\u001b[0;36m3\u001b[0m\u001b[0;34m]\u001b[0m\u001b[0;34m)\u001b[0m  \u001b[0;31m# Mover the mirror for a better view\u001b[0m\u001b[0;34m\u001b[0m\u001b[0m\n",
      "\u001b[0;31mNameError\u001b[0m: name 'Mirror' is not defined"
     ]
    }
   ],
   "source": [
    "# REFLECTION ---------------------------------------------------------\n",
    "\n",
    "# Create a new mirror object that is 'xy' plane\n",
    "m = Mirror('xy')\n",
    "l_xy = m.to_linker(Linker())\n",
    "l_xy.translate([0, 0, -3])  # Mover the mirror for a better view\n",
    "\n",
    "# Reflect linker 'xy' plane\n",
    "l2 = l1.reflect('xy')\n",
    "l2.translate([0, 0, -6])   # Mover the linker for a better view\n",
    "\n",
    "# Join original linker, reflected linker and 'xy' plane\n",
    "l3 = l1.join(l2, l_xy)\n",
    "\n",
    "# View all the objects\n",
    "l3.view()"
   ]
  },
  {
   "cell_type": "code",
   "execution_count": null,
   "metadata": {
    "collapsed": false
   },
   "outputs": [],
   "source": [
    "# ROTATION ---------------------------------------------------------\n",
    "\n",
    "# Determine rotation -> [angle, p1, p2] where p1----p2 is the rotation axis\n",
    "rotation_info = [math.pi, [0, 0, 0], [1, 0, 0]]\n",
    "\n",
    "# Rotate l1\n",
    "l4 = l1.rotate(rotation_info)\n",
    "l4.translate([0, 0, -6])\n",
    "\n",
    "# Join rotated and original linkers\n",
    "l5 = l4.join(l1)\n",
    "l5.view()"
   ]
  },
  {
   "cell_type": "code",
   "execution_count": null,
   "metadata": {
    "collapsed": true
   },
   "outputs": [],
   "source": [
    "# ROTOREFLECTION (Improper Rotation) ---------------------------------------------\n",
    "\n",
    "# Determine rotation -> [angle, p1, p2] where p1----p2 is the rotation axis\n",
    "rotation_info = [math.pi, [0, 0, 0], [1, 0, 0]]\n",
    "# Determine reflection plane as 'xy\n",
    "\n",
    "lr = l1.rotoreflect(rotation_info, 'xy')\n",
    "lr.translate([0, 0, -7])\n",
    "\n",
    "# Join rotoreflection and original linker and plane\n",
    "lr = lr.join(l1)\n",
    "\n",
    "lr.view()"
   ]
  },
  {
   "cell_type": "code",
   "execution_count": null,
   "metadata": {
    "collapsed": false
   },
   "outputs": [],
   "source": []
  },
  {
   "cell_type": "code",
   "execution_count": null,
   "metadata": {
    "collapsed": true
   },
   "outputs": [],
   "source": []
  },
  {
   "cell_type": "code",
   "execution_count": null,
   "metadata": {
    "collapsed": true
   },
   "outputs": [],
   "source": []
  }
 ],
 "metadata": {
  "anaconda-cloud": {},
  "kernelspec": {
   "display_name": "Python [default]",
   "language": "python",
   "name": "python3"
  },
  "language_info": {
   "codemirror_mode": {
    "name": "ipython",
    "version": 3
   },
   "file_extension": ".py",
   "mimetype": "text/x-python",
   "name": "python",
   "nbconvert_exporter": "python",
   "pygments_lexer": "ipython3",
   "version": "3.5.2"
  }
 },
 "nbformat": 4,
 "nbformat_minor": 0
}
