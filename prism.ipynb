{
 "cells": [
  {
   "cell_type": "code",
   "execution_count": 1,
   "metadata": {
    "collapsed": false
   },
   "outputs": [],
   "source": [
    "import os\n",
    "import math\n",
    "from moleidoscope.linker import Linker\n",
    "from moleidoscope.mirror import Mirror\n",
    "from moleidoscope.line import Line\n",
    "from moleidoscope.geo.coor import Coor"
   ]
  },
  {
   "cell_type": "code",
   "execution_count": null,
   "metadata": {
    "collapsed": false
   },
   "outputs": [],
   "source": [
    "p1 = [-3**0.5/3, -1, -1]\n",
    "p2 = [-3**0.5/3, -1, 1]\n",
    "p3 = [2*3**0.5/3, 0, 1]\n",
    "m1 = Mirror(p1, p2, p3, size=7)\n",
    "\n",
    "p1 = [-3**0.5/3, 1, -1]\n",
    "p2 = [-3**0.5/3, 1, 1]\n",
    "p3 = [2*3**0.5/3, 0, 1]\n",
    "m2 = Mirror(p1, p2, p3, size=7)\n",
    "\n",
    "p1 = [-3**0.5/3, -1, -1]\n",
    "p2 = [-3**0.5/3, -1, 1]\n",
    "p3 = [-3**0.5/3, 1, 1]\n",
    "m3 = Mirror(p1, p2, p3, size=7)\n",
    "\n",
    "l1 = m1.to_linker(Linker())\n",
    "l2 = m2.to_linker(Linker())\n",
    "l3 = m3.to_linker(Linker())\n",
    "\n",
    "lxyz = Line.xyz_linker()\n",
    "lxyz.view()\n",
    "\n",
    "l = l1.join(l2, l3, lxyz)\n",
    "l.name = 'trihedron'\n",
    "l.view()"
   ]
  },
  {
   "cell_type": "code",
   "execution_count": null,
   "metadata": {
    "collapsed": true
   },
   "outputs": [],
   "source": [
    "p1 = [1, 1, 1]\n",
    "p2 = [-1, 1, 1]\n",
    "p3 = [-1, 1, -1]\n",
    "m1 = Mirror(p1, p2, p3, size=10)\n",
    "\n",
    "p1 = [-1, -1, 1]\n",
    "p2 = [-1, 1, 1]\n",
    "p3 = [-1, 1, -1]\n",
    "m2 = Mirror(p1, p2, p3, size=10)\n",
    "\n",
    "p1 = [-1, -1, 1]\n",
    "p2 = [1, -1, 1]\n",
    "p3 = [1, -1, -1]\n",
    "m3 = Mirror(p1, p2, p3, size=10)\n",
    "\n",
    "p1 = [1, -1, 1]\n",
    "p2 = [1, 1, 1]\n",
    "p3 = [1, 1, -1]\n",
    "m4 = Mirror(p1, p2, p3, size=10)\n",
    "\n",
    "l1 = m1.to_linker(Linker())\n",
    "l2 = m2.to_linker(Linker())\n",
    "l3 = m3.to_linker(Linker())\n",
    "l4 = m4.to_linker(Linker())\n",
    "\n",
    "lxyz = Line.xyz_linker()\n",
    "lxyz.view()\n",
    "\n",
    "l = l1.join(l2, l3, l4, lxyz)\n",
    "l.name = 'cubic'\n",
    "l.view()"
   ]
  },
  {
   "cell_type": "code",
   "execution_count": 6,
   "metadata": {
    "collapsed": true
   },
   "outputs": [],
   "source": [
    "p1 = [-0.951, 0.309, -1]\n",
    "p2 = [-0.951, 0.309, 1]\n",
    "p3 = [0, 1, 1]\n",
    "m1 = Mirror(p1, p2, p3, size=7)\n",
    "\n",
    "p1 = [0.951, 0.309, -1]\n",
    "p2 = [0.951, 0.309, 1]\n",
    "p3 = [0, 1, 1]\n",
    "m2 = Mirror(p1, p2, p3, size=7)\n",
    "\n",
    "p1 = [-0.951, 0.309, -1]\n",
    "p2 = [-0.951, 0.309, 1]\n",
    "p3 = [-0.588, -0.809, 1]\n",
    "m3 = Mirror(p1, p2, p3, size=7)\n",
    "\n",
    "p1 = [0.588, -0.809, -1]\n",
    "p2 = [0.588, -0.809, 1]\n",
    "p3 = [-0.588, -0.809, 1]\n",
    "m4 = Mirror(p1, p2, p3, size=7)\n",
    "\n",
    "p1 = [0.588, -0.809, -1]\n",
    "p2 = [0.588, -0.809, 1]\n",
    "p3 = [0.951, 0.309, 1]\n",
    "m5 = Mirror(p1, p2, p3, size=7)\n",
    "\n",
    "l1 = m1.to_linker(Linker())\n",
    "l2 = m2.to_linker(Linker())\n",
    "l3 = m3.to_linker(Linker())\n",
    "l4 = m4.to_linker(Linker())\n",
    "l5 = m5.to_linker(Linker())\n",
    "\n",
    "lxyz = Line.xyz_linker()\n",
    "lxyz.view()\n",
    "\n",
    "l = l1.join(l2, l3, l4, l5, lxyz)\n",
    "l.name = 'pentahedron'\n",
    "l.view()"
   ]
  },
  {
   "cell_type": "code",
   "execution_count": null,
   "metadata": {
    "collapsed": true
   },
   "outputs": [],
   "source": [
    "p1 = [0.5*3**0.5, 0.5, -1]\n",
    "p2 = [0.5*3**0.5, 0.5, 1]\n",
    "p3 = [0, 1, 1]\n",
    "m1 = Mirror(p1, p2, p3, size=7)\n",
    "\n",
    "p1 = [-0.5*3**0.5, 0.5, -1]\n",
    "p2 = [-0.5*3**0.5, 0.5, 1]\n",
    "p3 = [0, 1, 1]\n",
    "m2 = Mirror(p1, p2, p3, size=7)\n",
    "\n",
    "p1 = [-0.5*3**0.5, 0.5, -1]\n",
    "p2 = [-0.5*3**0.5, 0.5, 1]\n",
    "p3 = [-0.5*3**0.5, -0.5, 1]\n",
    "m3 = Mirror(p1, p2, p3, size=7)\n",
    "\n",
    "p1 = [0, -1, -1]\n",
    "p2 = [0, -1, 1]\n",
    "p3 = [-0.5*3**0.5, -0.5, 1]\n",
    "m4 = Mirror(p1, p2, p3, size=7)\n",
    "\n",
    "p1 = [0, -1, -1]\n",
    "p2 = [0, -1, 1]\n",
    "p3 = [0.5*3**0.5, -0.5, 1]\n",
    "m5 = Mirror(p1, p2, p3, size=7)\n",
    "\n",
    "p1 = [0.5*3**0.5, 0.5, -1]\n",
    "p2 = [0.5*3**0.5, 0.5, 1]\n",
    "p3 = [0.5*3**0.5, -0.5, 1]\n",
    "m6 = Mirror(p1, p2, p3, size=7)\n",
    "\n",
    "l1 = m1.to_linker(Linker())\n",
    "l2 = m2.to_linker(Linker())\n",
    "l3 = m3.to_linker(Linker())\n",
    "l4 = m4.to_linker(Linker())\n",
    "l5 = m5.to_linker(Linker())\n",
    "l6 = m6.to_linker(Linker())\n",
    "\n",
    "lxyz = Line.xyz_linker()\n",
    "lxyz.view()\n",
    "\n",
    "l = l1.join(l2, l3, l4, l5, l6, lxyz)\n",
    "l.name = 'hexahedron'\n",
    "l.view()"
   ]
  },
  {
   "cell_type": "code",
   "execution_count": null,
   "metadata": {
    "collapsed": false
   },
   "outputs": [],
   "source": [
    "l8 = Linker(21)\n",
    "l8.view()"
   ]
  },
  {
   "cell_type": "code",
   "execution_count": null,
   "metadata": {
    "collapsed": false
   },
   "outputs": [],
   "source": [
    "gs = 10\n",
    "p1 = [0, -1, 0]\n",
    "p2 = [math.sqrt(3), 0, 0]\n",
    "p3 = [math.sqrt(3), 0, 3]\n",
    "\n",
    "a, b, c = scale(p1, p2, p3, size=7)\n",
    "m1 = Mirror(a, b, c)\n",
    "l1 = m1.to_linker(Linker(), grid_size=gs)\n",
    "\n",
    "# -----------------------------------------------------\n",
    "\n",
    "p1 = [math.sqrt(3), 0, 3]\n",
    "p2 = [0, 1, 3]\n",
    "p3 = [0, 1, 0]\n",
    "\n",
    "a, b, c = scale(p1, p2, p3, size=7)\n",
    "m2 = Mirror(a, b, c)\n",
    "l2 = m2.to_linker(Linker(), grid_size=gs)\n",
    "\n",
    "# -----------------------------------------------------\n",
    "\n",
    "p1 = [0, -1, 3]\n",
    "p2 = [0, 1, 3]\n",
    "p3 = [0, 1, 0]\n",
    "\n",
    "a, b, c = scale(p1, p2, p3, size=7)\n",
    "m3 = Mirror(a, b, c)\n",
    "l3 = m3.to_linker(Linker(), grid_size=gs)"
   ]
  },
  {
   "cell_type": "code",
   "execution_count": null,
   "metadata": {
    "collapsed": false
   },
   "outputs": [],
   "source": [
    "l4 = l1.join(l2)\n",
    "l5 = l4.join(l3)\n",
    "# l5.view()\n"
   ]
  },
  {
   "cell_type": "code",
   "execution_count": null,
   "metadata": {
    "collapsed": false
   },
   "outputs": [],
   "source": [
    "lm = Linker(23)\n",
    "lm.translate([3, 0, 10])\n",
    "\n",
    "l6 = l5.join(lm)\n",
    "# l6.view()"
   ]
  },
  {
   "cell_type": "code",
   "execution_count": null,
   "metadata": {
    "collapsed": false
   },
   "outputs": [],
   "source": [
    "lm1 = lm.reflect(m1)\n",
    "lm1.translate([10, -25, 2])\n",
    "lm2 = lm.reflect(m2)\n",
    "lm2.translate([13, 22, 0])\n",
    "lm3 = lm.reflect(m3)\n",
    "\n",
    "l7 = l6.join(lm1)\n",
    "l8 = l7.join(lm2)\n",
    "l9 = l8.join(lm3)\n",
    "l9.name = 'asedasd'\n",
    "l9.view()"
   ]
  },
  {
   "cell_type": "code",
   "execution_count": null,
   "metadata": {
    "collapsed": false
   },
   "outputs": [],
   "source": [
    "gs = 10\n",
    "p1 = [0, -1, 0]\n",
    "p2 = [math.sqrt(3), 0, 0]\n",
    "p3 = [math.sqrt(3), 0, 3]\n",
    "\n",
    "a, b, c = scale(p1, p2, p3, size=7)\n",
    "m1 = Mirror(a, b, c)\n",
    "l1 = m1.to_linker(Linker(), grid_size=gs)\n",
    "\n",
    "lm = Linker(23)\n",
    "lm1 = lm.mirror(m1)\n",
    "\n",
    "l_new = l1.join(lm1)\n",
    "l_new = l_new.join(lm)\n",
    "l_new.view()"
   ]
  },
  {
   "cell_type": "code",
   "execution_count": 9,
   "metadata": {
    "collapsed": false
   },
   "outputs": [
    {
     "data": {
      "text/plain": [
       "0.25382336276203626"
      ]
     },
     "execution_count": 9,
     "metadata": {},
     "output_type": "execute_result"
    }
   ],
   "source": [
    "math.sin(72)"
   ]
  },
  {
   "cell_type": "code",
   "execution_count": 13,
   "metadata": {
    "collapsed": false
   },
   "outputs": [
    {
     "data": {
      "text/plain": [
       "0.9510565162951535"
      ]
     },
     "execution_count": 13,
     "metadata": {},
     "output_type": "execute_result"
    }
   ],
   "source": [
    "math.sin(72/180*math.pi)"
   ]
  },
  {
   "cell_type": "code",
   "execution_count": 12,
   "metadata": {
    "collapsed": false
   },
   "outputs": [
    {
     "data": {
      "text/plain": [
       "-0.9917788534431158"
      ]
     },
     "execution_count": 12,
     "metadata": {},
     "output_type": "execute_result"
    }
   ],
   "source": [
    "math.sin(36)"
   ]
  },
  {
   "cell_type": "code",
   "execution_count": 14,
   "metadata": {
    "collapsed": false
   },
   "outputs": [
    {
     "data": {
      "text/plain": [
       "0.5877852522924731"
      ]
     },
     "execution_count": 14,
     "metadata": {},
     "output_type": "execute_result"
    }
   ],
   "source": [
    "math.sin(36/180*math.pi)"
   ]
  },
  {
   "cell_type": "code",
   "execution_count": null,
   "metadata": {
    "collapsed": true
   },
   "outputs": [],
   "source": []
  }
 ],
 "metadata": {
  "anaconda-cloud": {},
  "kernelspec": {
   "display_name": "Python 3",
   "language": "python",
   "name": "python3"
  },
  "language_info": {
   "codemirror_mode": {
    "name": "ipython",
    "version": 3
   },
   "file_extension": ".py",
   "mimetype": "text/x-python",
   "name": "python",
   "nbconvert_exporter": "python",
   "pygments_lexer": "ipython3",
   "version": "3.5.2"
  }
 },
 "nbformat": 4,
 "nbformat_minor": 0
}
